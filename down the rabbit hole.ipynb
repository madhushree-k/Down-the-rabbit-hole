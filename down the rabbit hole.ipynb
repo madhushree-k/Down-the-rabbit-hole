{
 "cells": [
  {
   "cell_type": "markdown",
   "metadata": {},
   "source": [
    "# Down the Rabbit hole\n",
    "Text analysis of Lewis Carrol aka Charles Dogsons \"Alice in Wonderland\" and \"Through the Looking Glass\".\n"
   ]
  },
  {
   "cell_type": "markdown",
   "metadata": {},
   "source": [
    "<img src =\"../Down-the-rabbit-hole/image.png\"/> "
   ]
  },
  {
   "cell_type": "code",
   "execution_count": 1,
   "metadata": {
    "collapsed": true
   },
   "outputs": [],
   "source": [
    "import numpy as np\n",
    "import pandas as pd\n"
   ]
  },
  {
   "cell_type": "code",
   "execution_count": 46,
   "metadata": {},
   "outputs": [],
   "source": [
    "with open(\"../Down-the-rabbit-hole/11-0.txt\", encoding='utf8') as f:\n",
    "    file= f.read()"
   ]
  },
  {
   "cell_type": "code",
   "execution_count": 47,
   "metadata": {},
   "outputs": [],
   "source": [
    "raw = file.split(\"CHAPTER\")[1:]\n"
   ]
  },
  {
   "cell_type": "code",
   "execution_count": 48,
   "metadata": {},
   "outputs": [
    {
     "data": {
      "text/html": [
       "<div>\n",
       "<style>\n",
       "    .dataframe thead tr:only-child th {\n",
       "        text-align: right;\n",
       "    }\n",
       "\n",
       "    .dataframe thead th {\n",
       "        text-align: left;\n",
       "    }\n",
       "\n",
       "    .dataframe tbody tr th {\n",
       "        vertical-align: top;\n",
       "    }\n",
       "</style>\n",
       "<table border=\"1\" class=\"dataframe\">\n",
       "  <thead>\n",
       "    <tr style=\"text-align: right;\">\n",
       "      <th></th>\n",
       "      <th>chapter</th>\n",
       "    </tr>\n",
       "  </thead>\n",
       "  <tbody>\n",
       "    <tr>\n",
       "      <th>0</th>\n",
       "      <td>I. Down the Rabbit-Hole\\n\\nAlice was beginnin...</td>\n",
       "    </tr>\n",
       "    <tr>\n",
       "      <th>1</th>\n",
       "      <td>II. The Pool of Tears\\n\\n‘Curiouser and curio...</td>\n",
       "    </tr>\n",
       "    <tr>\n",
       "      <th>2</th>\n",
       "      <td>III. A Caucus-Race and a Long Tale\\n\\nThey we...</td>\n",
       "    </tr>\n",
       "    <tr>\n",
       "      <th>3</th>\n",
       "      <td>IV. The Rabbit Sends in a Little Bill\\n\\nIt w...</td>\n",
       "    </tr>\n",
       "    <tr>\n",
       "      <th>4</th>\n",
       "      <td>V. Advice from a Caterpillar\\n\\nThe Caterpill...</td>\n",
       "    </tr>\n",
       "  </tbody>\n",
       "</table>\n",
       "</div>"
      ],
      "text/plain": [
       "                                             chapter\n",
       "0   I. Down the Rabbit-Hole\\n\\nAlice was beginnin...\n",
       "1   II. The Pool of Tears\\n\\n‘Curiouser and curio...\n",
       "2   III. A Caucus-Race and a Long Tale\\n\\nThey we...\n",
       "3   IV. The Rabbit Sends in a Little Bill\\n\\nIt w...\n",
       "4   V. Advice from a Caterpillar\\n\\nThe Caterpill..."
      ]
     },
     "execution_count": 48,
     "metadata": {},
     "output_type": "execute_result"
    }
   ],
   "source": [
    "raw = pd.DataFrame({\"chapter\": raw})\n",
    "raw.head()"
   ]
  },
  {
   "cell_type": "code",
   "execution_count": 49,
   "metadata": {},
   "outputs": [
    {
     "data": {
      "text/html": [
       "<div>\n",
       "<style>\n",
       "    .dataframe thead tr:only-child th {\n",
       "        text-align: right;\n",
       "    }\n",
       "\n",
       "    .dataframe thead th {\n",
       "        text-align: left;\n",
       "    }\n",
       "\n",
       "    .dataframe tbody tr th {\n",
       "        vertical-align: top;\n",
       "    }\n",
       "</style>\n",
       "<table border=\"1\" class=\"dataframe\">\n",
       "  <thead>\n",
       "    <tr style=\"text-align: right;\">\n",
       "      <th></th>\n",
       "      <th>chapter</th>\n",
       "      <th>Chapter_Title</th>\n",
       "      <th>Chapter_Num</th>\n",
       "      <th>Title</th>\n",
       "    </tr>\n",
       "  </thead>\n",
       "  <tbody>\n",
       "    <tr>\n",
       "      <th>0</th>\n",
       "      <td>I. Down the Rabbit-Hole\\n\\nAlice was beginnin...</td>\n",
       "      <td>I. Down the Rabbit-Hole</td>\n",
       "      <td>I</td>\n",
       "      <td>Down the Rabbit-Hole</td>\n",
       "    </tr>\n",
       "    <tr>\n",
       "      <th>1</th>\n",
       "      <td>II. The Pool of Tears\\n\\n‘Curiouser and curio...</td>\n",
       "      <td>II. The Pool of Tears</td>\n",
       "      <td>II</td>\n",
       "      <td>The Pool of Tears</td>\n",
       "    </tr>\n",
       "    <tr>\n",
       "      <th>2</th>\n",
       "      <td>III. A Caucus-Race and a Long Tale\\n\\nThey we...</td>\n",
       "      <td>III. A Caucus-Race and a Long Tale</td>\n",
       "      <td>III</td>\n",
       "      <td>A Caucus-Race and a Long Tale</td>\n",
       "    </tr>\n",
       "    <tr>\n",
       "      <th>3</th>\n",
       "      <td>IV. The Rabbit Sends in a Little Bill\\n\\nIt w...</td>\n",
       "      <td>IV. The Rabbit Sends in a Little Bill</td>\n",
       "      <td>IV</td>\n",
       "      <td>The Rabbit Sends in a Little Bill</td>\n",
       "    </tr>\n",
       "    <tr>\n",
       "      <th>4</th>\n",
       "      <td>V. Advice from a Caterpillar\\n\\nThe Caterpill...</td>\n",
       "      <td>V. Advice from a Caterpillar</td>\n",
       "      <td>V</td>\n",
       "      <td>Advice from a Caterpillar</td>\n",
       "    </tr>\n",
       "    <tr>\n",
       "      <th>5</th>\n",
       "      <td>VI. Pig and Pepper\\n\\nFor a minute or two she...</td>\n",
       "      <td>VI. Pig and Pepper</td>\n",
       "      <td>VI</td>\n",
       "      <td>Pig and Pepper</td>\n",
       "    </tr>\n",
       "    <tr>\n",
       "      <th>6</th>\n",
       "      <td>VII. A Mad Tea-Party\\n\\nThere was a table set...</td>\n",
       "      <td>VII. A Mad Tea-Party</td>\n",
       "      <td>VII</td>\n",
       "      <td>A Mad Tea-Party</td>\n",
       "    </tr>\n",
       "    <tr>\n",
       "      <th>7</th>\n",
       "      <td>VIII. The Queen’s Croquet-Ground\\n\\nA large r...</td>\n",
       "      <td>VIII. The Queen’s Croquet-Ground</td>\n",
       "      <td>VIII</td>\n",
       "      <td>The Queen’s Croquet-Ground</td>\n",
       "    </tr>\n",
       "    <tr>\n",
       "      <th>8</th>\n",
       "      <td>IX. The Mock Turtle’s Story\\n\\n‘You can’t thi...</td>\n",
       "      <td>IX. The Mock Turtle’s Story</td>\n",
       "      <td>IX</td>\n",
       "      <td>The Mock Turtle’s Story</td>\n",
       "    </tr>\n",
       "    <tr>\n",
       "      <th>9</th>\n",
       "      <td>X. The Lobster Quadrille\\n\\nThe Mock Turtle s...</td>\n",
       "      <td>X. The Lobster Quadrille</td>\n",
       "      <td>X</td>\n",
       "      <td>The Lobster Quadrille</td>\n",
       "    </tr>\n",
       "    <tr>\n",
       "      <th>10</th>\n",
       "      <td>XI. Who Stole the Tarts?\\n\\nThe King and Quee...</td>\n",
       "      <td>XI. Who Stole the Tarts?</td>\n",
       "      <td>XI</td>\n",
       "      <td>Who Stole the Tarts?</td>\n",
       "    </tr>\n",
       "    <tr>\n",
       "      <th>11</th>\n",
       "      <td>XII. Alice’s Evidence\\n\\n\\n‘Here!’ cried Alic...</td>\n",
       "      <td>XII. Alice’s Evidence</td>\n",
       "      <td>XII</td>\n",
       "      <td>Alice’s Evidence</td>\n",
       "    </tr>\n",
       "  </tbody>\n",
       "</table>\n",
       "</div>"
      ],
      "text/plain": [
       "                                              chapter  \\\n",
       "0    I. Down the Rabbit-Hole\\n\\nAlice was beginnin...   \n",
       "1    II. The Pool of Tears\\n\\n‘Curiouser and curio...   \n",
       "2    III. A Caucus-Race and a Long Tale\\n\\nThey we...   \n",
       "3    IV. The Rabbit Sends in a Little Bill\\n\\nIt w...   \n",
       "4    V. Advice from a Caterpillar\\n\\nThe Caterpill...   \n",
       "5    VI. Pig and Pepper\\n\\nFor a minute or two she...   \n",
       "6    VII. A Mad Tea-Party\\n\\nThere was a table set...   \n",
       "7    VIII. The Queen’s Croquet-Ground\\n\\nA large r...   \n",
       "8    IX. The Mock Turtle’s Story\\n\\n‘You can’t thi...   \n",
       "9    X. The Lobster Quadrille\\n\\nThe Mock Turtle s...   \n",
       "10   XI. Who Stole the Tarts?\\n\\nThe King and Quee...   \n",
       "11   XII. Alice’s Evidence\\n\\n\\n‘Here!’ cried Alic...   \n",
       "\n",
       "                             Chapter_Title Chapter_Num  \\\n",
       "0                  I. Down the Rabbit-Hole           I   \n",
       "1                    II. The Pool of Tears          II   \n",
       "2       III. A Caucus-Race and a Long Tale         III   \n",
       "3    IV. The Rabbit Sends in a Little Bill          IV   \n",
       "4             V. Advice from a Caterpillar           V   \n",
       "5                       VI. Pig and Pepper          VI   \n",
       "6                     VII. A Mad Tea-Party         VII   \n",
       "7         VIII. The Queen’s Croquet-Ground        VIII   \n",
       "8              IX. The Mock Turtle’s Story          IX   \n",
       "9                 X. The Lobster Quadrille           X   \n",
       "10                XI. Who Stole the Tarts?          XI   \n",
       "11                   XII. Alice’s Evidence         XII   \n",
       "\n",
       "                                 Title  \n",
       "0                 Down the Rabbit-Hole  \n",
       "1                    The Pool of Tears  \n",
       "2        A Caucus-Race and a Long Tale  \n",
       "3    The Rabbit Sends in a Little Bill  \n",
       "4            Advice from a Caterpillar  \n",
       "5                       Pig and Pepper  \n",
       "6                      A Mad Tea-Party  \n",
       "7           The Queen’s Croquet-Ground  \n",
       "8              The Mock Turtle’s Story  \n",
       "9                The Lobster Quadrille  \n",
       "10                Who Stole the Tarts?  \n",
       "11                    Alice’s Evidence  "
      ]
     },
     "execution_count": 49,
     "metadata": {},
     "output_type": "execute_result"
    }
   ],
   "source": [
    "chapters = raw.copy()\n",
    "\n",
    "# Get the chapter title, number, text\n",
    "chapters['Chapter_Title'] = chapters.chapter.str.split(\"\\n\").str[0]\n",
    "chapters['Chapter_Num'] = chapters.Chapter_Title.str.split(\".\").str[0]\n",
    "chapters['Title'] = chapters.Chapter_Title.str.split(\".\").str[1]\n",
    "chapters"
   ]
  },
  {
   "cell_type": "code",
   "execution_count": 50,
   "metadata": {
    "collapsed": true
   },
   "outputs": [],
   "source": [
    "def remove_Chapter_Title(text):\n",
    "    length = len(text.split(\"\\n\")[0]) + 2\n",
    "    return text[length:]"
   ]
  },
  {
   "cell_type": "code",
   "execution_count": 51,
   "metadata": {},
   "outputs": [
    {
     "data": {
      "text/html": [
       "<div>\n",
       "<style>\n",
       "    .dataframe thead tr:only-child th {\n",
       "        text-align: right;\n",
       "    }\n",
       "\n",
       "    .dataframe thead th {\n",
       "        text-align: left;\n",
       "    }\n",
       "\n",
       "    .dataframe tbody tr th {\n",
       "        vertical-align: top;\n",
       "    }\n",
       "</style>\n",
       "<table border=\"1\" class=\"dataframe\">\n",
       "  <thead>\n",
       "    <tr style=\"text-align: right;\">\n",
       "      <th></th>\n",
       "      <th>chapter</th>\n",
       "      <th>Chapter_Num</th>\n",
       "      <th>Title</th>\n",
       "    </tr>\n",
       "  </thead>\n",
       "  <tbody>\n",
       "    <tr>\n",
       "      <th>0</th>\n",
       "      <td>Alice was beginning to get very tired of sitti...</td>\n",
       "      <td>I</td>\n",
       "      <td>Down the Rabbit-Hole</td>\n",
       "    </tr>\n",
       "    <tr>\n",
       "      <th>1</th>\n",
       "      <td>‘Curiouser and curiouser!’ cried Alice (she wa...</td>\n",
       "      <td>II</td>\n",
       "      <td>The Pool of Tears</td>\n",
       "    </tr>\n",
       "    <tr>\n",
       "      <th>2</th>\n",
       "      <td>They were indeed a queer-looking party that as...</td>\n",
       "      <td>III</td>\n",
       "      <td>A Caucus-Race and a Long Tale</td>\n",
       "    </tr>\n",
       "    <tr>\n",
       "      <th>3</th>\n",
       "      <td>It was the White Rabbit, trotting slowly back ...</td>\n",
       "      <td>IV</td>\n",
       "      <td>The Rabbit Sends in a Little Bill</td>\n",
       "    </tr>\n",
       "    <tr>\n",
       "      <th>4</th>\n",
       "      <td>The Caterpillar and Alice looked at each other...</td>\n",
       "      <td>V</td>\n",
       "      <td>Advice from a Caterpillar</td>\n",
       "    </tr>\n",
       "    <tr>\n",
       "      <th>5</th>\n",
       "      <td>For a minute or two she stood looking at the h...</td>\n",
       "      <td>VI</td>\n",
       "      <td>Pig and Pepper</td>\n",
       "    </tr>\n",
       "    <tr>\n",
       "      <th>6</th>\n",
       "      <td>There was a table set out under a tree in fron...</td>\n",
       "      <td>VII</td>\n",
       "      <td>A Mad Tea-Party</td>\n",
       "    </tr>\n",
       "    <tr>\n",
       "      <th>7</th>\n",
       "      <td>A large rose-tree stood near the entrance of t...</td>\n",
       "      <td>VIII</td>\n",
       "      <td>The Queen’s Croquet-Ground</td>\n",
       "    </tr>\n",
       "    <tr>\n",
       "      <th>8</th>\n",
       "      <td>‘You can’t think how glad I am to see you agai...</td>\n",
       "      <td>IX</td>\n",
       "      <td>The Mock Turtle’s Story</td>\n",
       "    </tr>\n",
       "    <tr>\n",
       "      <th>9</th>\n",
       "      <td>The Mock Turtle sighed deeply, and drew the ba...</td>\n",
       "      <td>X</td>\n",
       "      <td>The Lobster Quadrille</td>\n",
       "    </tr>\n",
       "    <tr>\n",
       "      <th>10</th>\n",
       "      <td>The King and Queen of Hearts were seated on th...</td>\n",
       "      <td>XI</td>\n",
       "      <td>Who Stole the Tarts?</td>\n",
       "    </tr>\n",
       "    <tr>\n",
       "      <th>11</th>\n",
       "      <td>\\n‘Here!’ cried Alice, quite forgetting in the...</td>\n",
       "      <td>XII</td>\n",
       "      <td>Alice’s Evidence</td>\n",
       "    </tr>\n",
       "  </tbody>\n",
       "</table>\n",
       "</div>"
      ],
      "text/plain": [
       "                                              chapter Chapter_Num  \\\n",
       "0   Alice was beginning to get very tired of sitti...           I   \n",
       "1   ‘Curiouser and curiouser!’ cried Alice (she wa...          II   \n",
       "2   They were indeed a queer-looking party that as...         III   \n",
       "3   It was the White Rabbit, trotting slowly back ...          IV   \n",
       "4   The Caterpillar and Alice looked at each other...           V   \n",
       "5   For a minute or two she stood looking at the h...          VI   \n",
       "6   There was a table set out under a tree in fron...         VII   \n",
       "7   A large rose-tree stood near the entrance of t...        VIII   \n",
       "8   ‘You can’t think how glad I am to see you agai...          IX   \n",
       "9   The Mock Turtle sighed deeply, and drew the ba...           X   \n",
       "10  The King and Queen of Hearts were seated on th...          XI   \n",
       "11  \\n‘Here!’ cried Alice, quite forgetting in the...         XII   \n",
       "\n",
       "                                 Title  \n",
       "0                 Down the Rabbit-Hole  \n",
       "1                    The Pool of Tears  \n",
       "2        A Caucus-Race and a Long Tale  \n",
       "3    The Rabbit Sends in a Little Bill  \n",
       "4            Advice from a Caterpillar  \n",
       "5                       Pig and Pepper  \n",
       "6                      A Mad Tea-Party  \n",
       "7           The Queen’s Croquet-Ground  \n",
       "8              The Mock Turtle’s Story  \n",
       "9                The Lobster Quadrille  \n",
       "10                Who Stole the Tarts?  \n",
       "11                    Alice’s Evidence  "
      ]
     },
     "execution_count": 51,
     "metadata": {},
     "output_type": "execute_result"
    }
   ],
   "source": [
    "chapters['chapter'] = chapters.chapter.map(remove_Chapter_Title)\n",
    "chapters.drop('Chapter_Title', inplace=True, axis=1)\n",
    "chapters"
   ]
  },
  {
   "cell_type": "code",
   "execution_count": 28,
   "metadata": {
    "collapsed": true
   },
   "outputs": [],
   "source": [
    "# Unnest function\n",
    "def unnest_tokens(dataframe, column, tokenizer, new_column='word'): \n",
    "    \"\"\"\n",
    "    Applies a tokenizer to a column and then unnest the dataframe\n",
    "    \n",
    "    dataframe: dataframe with text\n",
    "    column: name of the column with the text\n",
    "    new_column: what you want the column of words to be called\n",
    "    tokenizer: a function to be used to tokenize the text\n",
    "    \"\"\" \n",
    "    new_column_num = new_column + \"_num\"\n",
    "    df = ( dataframe[column]\n",
    "              .apply(tokenizer)\n",
    "              .apply(pd.Series)\n",
    "              .stack()\n",
    "              .reset_index(level=1)\n",
    "              .rename(columns={0: new_column, \"level_1\":new_column_num})\n",
    "              .join(dataframe.drop(column, axis=1), how='left')\n",
    "              .reset_index(drop=True)\n",
    "         )\n",
    "    df[new_column_num] = pd.to_numeric(df[new_column_num])\n",
    "    df[new_column_num] = df[new_column_num] + 1\n",
    "    return df"
   ]
  },
  {
   "cell_type": "code",
   "execution_count": 52,
   "metadata": {},
   "outputs": [
    {
     "data": {
      "text/html": [
       "<div>\n",
       "<style>\n",
       "    .dataframe thead tr:only-child th {\n",
       "        text-align: right;\n",
       "    }\n",
       "\n",
       "    .dataframe thead th {\n",
       "        text-align: left;\n",
       "    }\n",
       "\n",
       "    .dataframe tbody tr th {\n",
       "        vertical-align: top;\n",
       "    }\n",
       "</style>\n",
       "<table border=\"1\" class=\"dataframe\">\n",
       "  <thead>\n",
       "    <tr style=\"text-align: right;\">\n",
       "      <th></th>\n",
       "      <th>paragraph_num</th>\n",
       "      <th>paragraph</th>\n",
       "      <th>Chapter_Num</th>\n",
       "      <th>Title</th>\n",
       "    </tr>\n",
       "  </thead>\n",
       "  <tbody>\n",
       "    <tr>\n",
       "      <th>0</th>\n",
       "      <td>1</td>\n",
       "      <td>Alice was beginning to get very tired of sitti...</td>\n",
       "      <td>I</td>\n",
       "      <td>Down the Rabbit-Hole</td>\n",
       "    </tr>\n",
       "    <tr>\n",
       "      <th>1</th>\n",
       "      <td>2</td>\n",
       "      <td>So she was considering in her own mind (as wel...</td>\n",
       "      <td>I</td>\n",
       "      <td>Down the Rabbit-Hole</td>\n",
       "    </tr>\n",
       "    <tr>\n",
       "      <th>2</th>\n",
       "      <td>3</td>\n",
       "      <td>There was nothing so VERY remarkable in that; ...</td>\n",
       "      <td>I</td>\n",
       "      <td>Down the Rabbit-Hole</td>\n",
       "    </tr>\n",
       "    <tr>\n",
       "      <th>3</th>\n",
       "      <td>4</td>\n",
       "      <td>In another moment down went Alice after it, ne...</td>\n",
       "      <td>I</td>\n",
       "      <td>Down the Rabbit-Hole</td>\n",
       "    </tr>\n",
       "    <tr>\n",
       "      <th>4</th>\n",
       "      <td>5</td>\n",
       "      <td>The rabbit-hole went straight on like a tunnel...</td>\n",
       "      <td>I</td>\n",
       "      <td>Down the Rabbit-Hole</td>\n",
       "    </tr>\n",
       "  </tbody>\n",
       "</table>\n",
       "</div>"
      ],
      "text/plain": [
       "   paragraph_num                                          paragraph  \\\n",
       "0              1  Alice was beginning to get very tired of sitti...   \n",
       "1              2  So she was considering in her own mind (as wel...   \n",
       "2              3  There was nothing so VERY remarkable in that; ...   \n",
       "3              4  In another moment down went Alice after it, ne...   \n",
       "4              5  The rabbit-hole went straight on like a tunnel...   \n",
       "\n",
       "  Chapter_Num                  Title  \n",
       "0           I   Down the Rabbit-Hole  \n",
       "1           I   Down the Rabbit-Hole  \n",
       "2           I   Down the Rabbit-Hole  \n",
       "3           I   Down the Rabbit-Hole  \n",
       "4           I   Down the Rabbit-Hole  "
      ]
     },
     "execution_count": 52,
     "metadata": {},
     "output_type": "execute_result"
    }
   ],
   "source": [
    "def paragraph_tokenizer(text):\n",
    "    return text.split(\"\\n\\n\")\n",
    "paragraphs = unnest_tokens(chapters, \"chapter\", paragraph_tokenizer, \"paragraph\")\n",
    "paragraphs.head()"
   ]
  },
  {
   "cell_type": "code",
   "execution_count": 53,
   "metadata": {},
   "outputs": [
    {
     "data": {
      "text/plain": [
       "'Alice was beginning to get very tired of sitting by her sister on the\\nbank, and of having nothing to do: once or twice she had peeped into the\\nbook her sister was reading, but it had no pictures or conversations in\\nit, ‘and what is the use of a book,’ thought Alice ‘without pictures or\\nconversations?’'"
      ]
     },
     "execution_count": 53,
     "metadata": {},
     "output_type": "execute_result"
    }
   ],
   "source": [
    "\n",
    "paragraphs.paragraph[0]"
   ]
  },
  {
   "cell_type": "code",
   "execution_count": 54,
   "metadata": {
    "collapsed": true
   },
   "outputs": [],
   "source": [
    "# Remove linebreaks within a paragraph\n",
    "paragraphs['paragraph'] = paragraphs.paragraph.str.replace(\"\\n\", \" \")"
   ]
  },
  {
   "cell_type": "code",
   "execution_count": 33,
   "metadata": {},
   "outputs": [
    {
     "data": {
      "text/plain": [
       "'Alice was beginning to get very tired of sitting by her sister on the bank, and of having nothing to do: once or twice she had peeped into the book her sister was reading, but it had no pictures or conversations in it, ‘and what is the use of a book,’ thought Alice ‘without pictures or conversations?’'"
      ]
     },
     "execution_count": 33,
     "metadata": {},
     "output_type": "execute_result"
    }
   ],
   "source": [
    "\n",
    "paragraphs.paragraph[0]"
   ]
  },
  {
   "cell_type": "code",
   "execution_count": 55,
   "metadata": {
    "collapsed": true
   },
   "outputs": [],
   "source": [
    "#get sentences\n",
    "import spacy\n",
    "nlp = spacy.load('en')"
   ]
  },
  {
   "cell_type": "code",
   "execution_count": 56,
   "metadata": {
    "collapsed": true
   },
   "outputs": [],
   "source": [
    "def sentence_tokenizer(text):\n",
    "    doc = nlp(text)\n",
    "    sentences = [sent.string.strip() for sent in doc.sents]\n",
    "    return sentences"
   ]
  },
  {
   "cell_type": "code",
   "execution_count": 57,
   "metadata": {},
   "outputs": [
    {
     "data": {
      "text/html": [
       "<div>\n",
       "<style>\n",
       "    .dataframe thead tr:only-child th {\n",
       "        text-align: right;\n",
       "    }\n",
       "\n",
       "    .dataframe thead th {\n",
       "        text-align: left;\n",
       "    }\n",
       "\n",
       "    .dataframe tbody tr th {\n",
       "        vertical-align: top;\n",
       "    }\n",
       "</style>\n",
       "<table border=\"1\" class=\"dataframe\">\n",
       "  <thead>\n",
       "    <tr style=\"text-align: right;\">\n",
       "      <th></th>\n",
       "      <th>sentence_num</th>\n",
       "      <th>sentence</th>\n",
       "      <th>paragraph_num</th>\n",
       "      <th>Chapter_Num</th>\n",
       "      <th>Title</th>\n",
       "    </tr>\n",
       "  </thead>\n",
       "  <tbody>\n",
       "    <tr>\n",
       "      <th>0</th>\n",
       "      <td>1</td>\n",
       "      <td>Alice was beginning to get very tired of sitti...</td>\n",
       "      <td>1</td>\n",
       "      <td>I</td>\n",
       "      <td>Down the Rabbit-Hole</td>\n",
       "    </tr>\n",
       "    <tr>\n",
       "      <th>1</th>\n",
       "      <td>1</td>\n",
       "      <td>So she was considering in her own mind (as wel...</td>\n",
       "      <td>2</td>\n",
       "      <td>I</td>\n",
       "      <td>Down the Rabbit-Hole</td>\n",
       "    </tr>\n",
       "    <tr>\n",
       "      <th>2</th>\n",
       "      <td>1</td>\n",
       "      <td>There was nothing so VERY remarkable in that; ...</td>\n",
       "      <td>3</td>\n",
       "      <td>I</td>\n",
       "      <td>Down the Rabbit-Hole</td>\n",
       "    </tr>\n",
       "    <tr>\n",
       "      <th>3</th>\n",
       "      <td>2</td>\n",
       "      <td>Oh dear!</td>\n",
       "      <td>3</td>\n",
       "      <td>I</td>\n",
       "      <td>Down the Rabbit-Hole</td>\n",
       "    </tr>\n",
       "    <tr>\n",
       "      <th>4</th>\n",
       "      <td>3</td>\n",
       "      <td>Oh dear!</td>\n",
       "      <td>3</td>\n",
       "      <td>I</td>\n",
       "      <td>Down the Rabbit-Hole</td>\n",
       "    </tr>\n",
       "  </tbody>\n",
       "</table>\n",
       "</div>"
      ],
      "text/plain": [
       "   sentence_num                                           sentence  \\\n",
       "0             1  Alice was beginning to get very tired of sitti...   \n",
       "1             1  So she was considering in her own mind (as wel...   \n",
       "2             1  There was nothing so VERY remarkable in that; ...   \n",
       "3             2                                           Oh dear!   \n",
       "4             3                                           Oh dear!   \n",
       "\n",
       "   paragraph_num Chapter_Num                  Title  \n",
       "0              1           I   Down the Rabbit-Hole  \n",
       "1              2           I   Down the Rabbit-Hole  \n",
       "2              3           I   Down the Rabbit-Hole  \n",
       "3              3           I   Down the Rabbit-Hole  \n",
       "4              3           I   Down the Rabbit-Hole  "
      ]
     },
     "execution_count": 57,
     "metadata": {},
     "output_type": "execute_result"
    }
   ],
   "source": [
    "sentences = unnest_tokens(paragraphs, \"paragraph\", sentence_tokenizer, \"sentence\")\n",
    "sentences.head()"
   ]
  },
  {
   "cell_type": "code",
   "execution_count": 58,
   "metadata": {},
   "outputs": [
    {
     "data": {
      "text/plain": [
       "(1680, 5)"
      ]
     },
     "execution_count": 58,
     "metadata": {},
     "output_type": "execute_result"
    }
   ],
   "source": [
    "\n",
    "sentences.shape"
   ]
  },
  {
   "cell_type": "code",
   "execution_count": 59,
   "metadata": {},
   "outputs": [
    {
     "data": {
      "text/plain": [
       "'Alice was beginning to get very tired of sitting by her sister on the bank, and of having nothing to do: once or twice she had peeped into the book her sister was reading, but it had no pictures or conversations in it, ‘and what is the use of a book,’ thought Alice ‘without pictures or conversations?’'"
      ]
     },
     "execution_count": 59,
     "metadata": {},
     "output_type": "execute_result"
    }
   ],
   "source": [
    "sentences.sentence[0]"
   ]
  },
  {
   "cell_type": "code",
   "execution_count": 60,
   "metadata": {
    "collapsed": true
   },
   "outputs": [],
   "source": [
    "test = sentences.sentence[0]\n",
    "doc = nlp(test)"
   ]
  },
  {
   "cell_type": "code",
   "execution_count": 61,
   "metadata": {
    "collapsed": true
   },
   "outputs": [],
   "source": [
    "\n",
    "def word_tokenizer(text):\n",
    "    doc = nlp(text)\n",
    "    words = [[token.text, token.lemma_, token.pos_, token.is_stop] for token in doc]\n",
    "    return words"
   ]
  },
  {
   "cell_type": "code",
   "execution_count": 62,
   "metadata": {
    "collapsed": true
   },
   "outputs": [],
   "source": [
    "words = unnest_tokens(sentences, \"sentence\", word_tokenizer, \"word\")\n"
   ]
  },
  {
   "cell_type": "code",
   "execution_count": 63,
   "metadata": {},
   "outputs": [
    {
     "data": {
      "text/html": [
       "<div>\n",
       "<style>\n",
       "    .dataframe thead tr:only-child th {\n",
       "        text-align: right;\n",
       "    }\n",
       "\n",
       "    .dataframe thead th {\n",
       "        text-align: left;\n",
       "    }\n",
       "\n",
       "    .dataframe tbody tr th {\n",
       "        vertical-align: top;\n",
       "    }\n",
       "</style>\n",
       "<table border=\"1\" class=\"dataframe\">\n",
       "  <thead>\n",
       "    <tr style=\"text-align: right;\">\n",
       "      <th></th>\n",
       "      <th>word_num</th>\n",
       "      <th>word</th>\n",
       "      <th>sentence_num</th>\n",
       "      <th>paragraph_num</th>\n",
       "      <th>Chapter_Num</th>\n",
       "      <th>Title</th>\n",
       "    </tr>\n",
       "  </thead>\n",
       "  <tbody>\n",
       "    <tr>\n",
       "      <th>0</th>\n",
       "      <td>1</td>\n",
       "      <td>[Alice, alice, PROPN, False]</td>\n",
       "      <td>1</td>\n",
       "      <td>1</td>\n",
       "      <td>I</td>\n",
       "      <td>Down the Rabbit-Hole</td>\n",
       "    </tr>\n",
       "    <tr>\n",
       "      <th>1</th>\n",
       "      <td>2</td>\n",
       "      <td>[was, be, VERB, True]</td>\n",
       "      <td>1</td>\n",
       "      <td>1</td>\n",
       "      <td>I</td>\n",
       "      <td>Down the Rabbit-Hole</td>\n",
       "    </tr>\n",
       "    <tr>\n",
       "      <th>2</th>\n",
       "      <td>3</td>\n",
       "      <td>[beginning, begin, VERB, False]</td>\n",
       "      <td>1</td>\n",
       "      <td>1</td>\n",
       "      <td>I</td>\n",
       "      <td>Down the Rabbit-Hole</td>\n",
       "    </tr>\n",
       "    <tr>\n",
       "      <th>3</th>\n",
       "      <td>4</td>\n",
       "      <td>[to, to, PART, True]</td>\n",
       "      <td>1</td>\n",
       "      <td>1</td>\n",
       "      <td>I</td>\n",
       "      <td>Down the Rabbit-Hole</td>\n",
       "    </tr>\n",
       "    <tr>\n",
       "      <th>4</th>\n",
       "      <td>5</td>\n",
       "      <td>[get, get, VERB, True]</td>\n",
       "      <td>1</td>\n",
       "      <td>1</td>\n",
       "      <td>I</td>\n",
       "      <td>Down the Rabbit-Hole</td>\n",
       "    </tr>\n",
       "  </tbody>\n",
       "</table>\n",
       "</div>"
      ],
      "text/plain": [
       "   word_num                             word  sentence_num  paragraph_num  \\\n",
       "0         1     [Alice, alice, PROPN, False]             1              1   \n",
       "1         2            [was, be, VERB, True]             1              1   \n",
       "2         3  [beginning, begin, VERB, False]             1              1   \n",
       "3         4             [to, to, PART, True]             1              1   \n",
       "4         5           [get, get, VERB, True]             1              1   \n",
       "\n",
       "  Chapter_Num                  Title  \n",
       "0           I   Down the Rabbit-Hole  \n",
       "1           I   Down the Rabbit-Hole  \n",
       "2           I   Down the Rabbit-Hole  \n",
       "3           I   Down the Rabbit-Hole  \n",
       "4           I   Down the Rabbit-Hole  "
      ]
     },
     "execution_count": 63,
     "metadata": {},
     "output_type": "execute_result"
    }
   ],
   "source": [
    "\n",
    "words.head()"
   ]
  },
  {
   "cell_type": "code",
   "execution_count": 64,
   "metadata": {
    "collapsed": true
   },
   "outputs": [],
   "source": [
    "words[['word', 'lemma', 'POS', \"stop\"]] = pd.DataFrame(words.word.values.tolist())"
   ]
  },
  {
   "cell_type": "code",
   "execution_count": 65,
   "metadata": {},
   "outputs": [
    {
     "data": {
      "text/html": [
       "<div>\n",
       "<style>\n",
       "    .dataframe thead tr:only-child th {\n",
       "        text-align: right;\n",
       "    }\n",
       "\n",
       "    .dataframe thead th {\n",
       "        text-align: left;\n",
       "    }\n",
       "\n",
       "    .dataframe tbody tr th {\n",
       "        vertical-align: top;\n",
       "    }\n",
       "</style>\n",
       "<table border=\"1\" class=\"dataframe\">\n",
       "  <thead>\n",
       "    <tr style=\"text-align: right;\">\n",
       "      <th></th>\n",
       "      <th>word_num</th>\n",
       "      <th>word</th>\n",
       "      <th>sentence_num</th>\n",
       "      <th>paragraph_num</th>\n",
       "      <th>Chapter_Num</th>\n",
       "      <th>Title</th>\n",
       "      <th>lemma</th>\n",
       "      <th>POS</th>\n",
       "      <th>stop</th>\n",
       "    </tr>\n",
       "  </thead>\n",
       "  <tbody>\n",
       "    <tr>\n",
       "      <th>32338</th>\n",
       "      <td>115</td>\n",
       "      <td>summer</td>\n",
       "      <td>1</td>\n",
       "      <td>71</td>\n",
       "      <td>XII</td>\n",
       "      <td>Alice’s Evidence</td>\n",
       "      <td>summer</td>\n",
       "      <td>NOUN</td>\n",
       "      <td>False</td>\n",
       "    </tr>\n",
       "    <tr>\n",
       "      <th>32339</th>\n",
       "      <td>116</td>\n",
       "      <td>days</td>\n",
       "      <td>1</td>\n",
       "      <td>71</td>\n",
       "      <td>XII</td>\n",
       "      <td>Alice’s Evidence</td>\n",
       "      <td>day</td>\n",
       "      <td>NOUN</td>\n",
       "      <td>False</td>\n",
       "    </tr>\n",
       "    <tr>\n",
       "      <th>32340</th>\n",
       "      <td>117</td>\n",
       "      <td>.</td>\n",
       "      <td>1</td>\n",
       "      <td>71</td>\n",
       "      <td>XII</td>\n",
       "      <td>Alice’s Evidence</td>\n",
       "      <td>.</td>\n",
       "      <td>PUNCT</td>\n",
       "      <td>False</td>\n",
       "    </tr>\n",
       "    <tr>\n",
       "      <th>32341</th>\n",
       "      <td>1</td>\n",
       "      <td>THE</td>\n",
       "      <td>1</td>\n",
       "      <td>72</td>\n",
       "      <td>XII</td>\n",
       "      <td>Alice’s Evidence</td>\n",
       "      <td>the</td>\n",
       "      <td>DET</td>\n",
       "      <td>False</td>\n",
       "    </tr>\n",
       "    <tr>\n",
       "      <th>32342</th>\n",
       "      <td>2</td>\n",
       "      <td>END</td>\n",
       "      <td>1</td>\n",
       "      <td>72</td>\n",
       "      <td>XII</td>\n",
       "      <td>Alice’s Evidence</td>\n",
       "      <td>end</td>\n",
       "      <td>NOUN</td>\n",
       "      <td>False</td>\n",
       "    </tr>\n",
       "  </tbody>\n",
       "</table>\n",
       "</div>"
      ],
      "text/plain": [
       "       word_num    word  sentence_num  paragraph_num Chapter_Num  \\\n",
       "32338       115  summer             1             71         XII   \n",
       "32339       116    days             1             71         XII   \n",
       "32340       117       .             1             71         XII   \n",
       "32341         1     THE             1             72         XII   \n",
       "32342         2     END             1             72         XII   \n",
       "\n",
       "                   Title   lemma    POS   stop  \n",
       "32338   Alice’s Evidence  summer   NOUN  False  \n",
       "32339   Alice’s Evidence     day   NOUN  False  \n",
       "32340   Alice’s Evidence       .  PUNCT  False  \n",
       "32341   Alice’s Evidence     the    DET  False  \n",
       "32342   Alice’s Evidence     end   NOUN  False  "
      ]
     },
     "execution_count": 65,
     "metadata": {},
     "output_type": "execute_result"
    }
   ],
   "source": [
    "words.tail()"
   ]
  }
 ],
 "metadata": {
  "kernelspec": {
   "display_name": "Python 3",
   "language": "python",
   "name": "python3"
  },
  "language_info": {
   "codemirror_mode": {
    "name": "ipython",
    "version": 3
   },
   "file_extension": ".py",
   "mimetype": "text/x-python",
   "name": "python",
   "nbconvert_exporter": "python",
   "pygments_lexer": "ipython3",
   "version": "3.6.3"
  }
 },
 "nbformat": 4,
 "nbformat_minor": 2
}
